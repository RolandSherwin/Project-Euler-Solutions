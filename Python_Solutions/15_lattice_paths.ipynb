{
 "metadata": {
  "language_info": {
   "codemirror_mode": {
    "name": "ipython",
    "version": 3
   },
   "file_extension": ".py",
   "mimetype": "text/x-python",
   "name": "python",
   "nbconvert_exporter": "python",
   "pygments_lexer": "ipython3",
   "version": "3.8.5-final"
  },
  "orig_nbformat": 2,
  "kernelspec": {
   "name": "kernels",
   "display_name": "12 tiktokapi",
   "language": "python"
  }
 },
 "nbformat": 4,
 "nbformat_minor": 2,
 "cells": [
  {
   "source": [
    "# Question: \n",
    "https://projecteuler.net/problem=15"
   ],
   "cell_type": "markdown",
   "metadata": {}
  },
  {
   "cell_type": "code",
   "execution_count": 6,
   "metadata": {
    "tags": []
   },
   "outputs": [
    {
     "output_type": "stream",
     "name": "stdout",
     "text": [
      "[[1. 1. 1.]\n [1. 1. 1.]\n [1. 1. 1.]]\ngoing right to [0, 1]\ngoing right to [0, 2]\ngoing down to [1, 2]\ngoing down to [2, 2]\n[[[0, 1], [0, 2], [1, 2], [2, 2]], [[0, 1], [0, 2], [1, 2], [2, 2]]]\n"
     ]
    }
   ],
   "source": [
    "from utils.matrix import MatrixTraversal\n",
    "import numpy as np\n",
    "\n",
    "\n",
    "grid_size = (2+1,2+1)\n",
    "grid = np.ones(grid_size)\n",
    "print(grid)\n",
    "# Have look ahead of 2 since having 1 returns \"cannot_go_x\" as Fasle even when you're in corner\n",
    "p = MatrixTraversal(grid, 2)\n",
    "\n",
    "already_visited = [[[0, 1], [0, 2], [1, 2], [2, 2]]]\n",
    "current_path = []\n",
    "start = [0,0] #\n",
    "end = [2,2] #\n",
    "current = start\n",
    "\n",
    "\n",
    "while True:\n",
    "    if not p.cannot_go_right(current) and current_path not in already_visited:\n",
    "        current = [current[0], current[1]+1]\n",
    "        current_path.append(current)\n",
    "        print(\"going right to\", current)\n",
    "        continue\n",
    "\n",
    "    if not p.cannot_go_down(current) and current_path not in already_visited:\n",
    "        current = [current[0]+1, current[1]]\n",
    "        print(\"going down to\", current)\n",
    "        current_path.append(current)\n",
    "        continue\n",
    "    else:\n",
    "        already_visited.append(current_path)\n",
    "        print(already_visited)\n",
    "        break\n"
   ]
  },
  {
   "cell_type": "code",
   "execution_count": null,
   "metadata": {},
   "outputs": [],
   "source": []
  }
 ]
}