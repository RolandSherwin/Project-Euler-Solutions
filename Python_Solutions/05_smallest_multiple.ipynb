{
 "metadata": {
  "language_info": {
   "codemirror_mode": {
    "name": "ipython",
    "version": 3
   },
   "file_extension": ".py",
   "mimetype": "text/x-python",
   "name": "python",
   "nbconvert_exporter": "python",
   "pygments_lexer": "ipython3",
   "version": "3.8.5-final"
  },
  "orig_nbformat": 2,
  "kernelspec": {
   "name": "python3",
   "display_name": "Python 3.8.5 32-bit",
   "metadata": {
    "interpreter": {
     "hash": "2db524e06e9f5f4ffedc911c917cb75e12dbc923643829bf417064a77eb14d37"
    }
   }
  }
 },
 "nbformat": 4,
 "nbformat_minor": 2,
 "cells": [
  {
   "source": [
    "# Question:\n",
    "2520 is the smallest number that can be divided by each of the numbers from 1 to 10 without any remainder.\n",
    "\n",
    "What is the smallest positive number that is evenly divisible by all of the numbers from 1 to 20?\n"
   ],
   "cell_type": "markdown",
   "metadata": {}
  },
  {
   "cell_type": "code",
   "execution_count": 6,
   "metadata": {},
   "outputs": [],
   "source": [
    "import operator\n",
    "from functools import reduce\n",
    "DIVISOR_RANGE = 20\n",
    "\n",
    "def check_divisibility_by_range(divident, divisor_range=DIVISOR_RANGE):\n",
    "    if divident == 0:\n",
    "        return False\n",
    "\n",
    "    for i in range(1, divisor_range+1):\n",
    "        if divident%i != 0:\n",
    "            #print(f\"Number {divident} is not divisible by {i}\")\n",
    "            return False\n",
    "    \n",
    "    return True\n",
    "\n",
    "def is_prime(n: int) -> bool:\n",
    "    \"\"\"Primality test using 6k+-1 optimization.\"\"\"\n",
    "    if n <= 3:\n",
    "        return n > 1\n",
    "    if n % 2 == 0 or n % 3 == 0:\n",
    "        return False\n",
    "    i = 5\n",
    "    while i ** 2 <= n:\n",
    "        if n % i == 0 or n % (i + 2) == 0:\n",
    "            return False\n",
    "        i += 6\n",
    "    return True\n",
    "\n",
    "def prime_numbers_between_range(number):\n",
    "    primes = []\n",
    "    for p in range(number):\n",
    "        if is_prime(p):\n",
    "            primes.append(p)\n",
    "    return primes"
   ]
  },
  {
   "cell_type": "code",
   "execution_count": 8,
   "metadata": {
    "tags": []
   },
   "outputs": [
    {
     "output_type": "stream",
     "name": "stdout",
     "text": [
      "232792560\n"
     ]
    }
   ],
   "source": [
    "if __name__ == '__main__' and '__file__' not in globals():\n",
    "    # Our number must be divisible by the prime numbers: 2,3,5,7,11,13,17,19; Thus it should be a multiple of 9699690 = 2*3*5*...\n",
    "    gcd = reduce(operator.mul, prime_numbers_between_range(DIVISOR_RANGE), 1)\n",
    "    smallest_multiple = 0\n",
    "\n",
    "    while not check_divisibility_by_range(smallest_multiple, DIVISOR_RANGE):\n",
    "        smallest_multiple += gcd\n",
    "    print(smallest_multiple)"
   ]
  },
  {
   "cell_type": "code",
   "execution_count": null,
   "metadata": {},
   "outputs": [],
   "source": []
  }
 ]
}