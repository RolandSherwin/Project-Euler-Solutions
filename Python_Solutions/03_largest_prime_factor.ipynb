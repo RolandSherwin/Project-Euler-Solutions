{
 "metadata": {
  "language_info": {
   "codemirror_mode": {
    "name": "ipython",
    "version": 3
   },
   "file_extension": ".py",
   "mimetype": "text/x-python",
   "name": "python",
   "nbconvert_exporter": "python",
   "pygments_lexer": "ipython3",
   "version": "3.8.5-final"
  },
  "orig_nbformat": 2,
  "kernelspec": {
   "name": "kernels",
   "display_name": "12 tiktokapi",
   "language": "python"
  }
 },
 "nbformat": 4,
 "nbformat_minor": 2,
 "cells": [
  {
   "source": [
    "# Question:\n",
    "The prime factors of 13195 are 5, 7, 13 and 29.\n",
    "\n",
    "What is the largest prime factor of the number 600851475143 ?\n"
   ],
   "cell_type": "markdown",
   "metadata": {}
  },
  {
   "cell_type": "code",
   "execution_count": 8,
   "metadata": {},
   "outputs": [],
   "source": [
    "def prime_factor(number):\n",
    "    p = 2\n",
    "    primes = []\n",
    "    while number >= p**2:\n",
    "        if number % p == 0:\n",
    "            number = number/p\n",
    "            primes.append(p)\n",
    "        else:\n",
    "            p = p+1\n",
    "    # finally the number remaining is the largest prime factor\n",
    "    primes.append(int(number))\n",
    "    return primes"
   ]
  },
  {
   "cell_type": "code",
   "execution_count": 11,
   "metadata": {},
   "outputs": [
    {
     "output_type": "execute_result",
     "data": {
      "text/plain": [
       "6857"
      ]
     },
     "metadata": {},
     "execution_count": 11
    }
   ],
   "source": [
    "prime_factor(600851475143)[-1]"
   ]
  },
  {
   "cell_type": "code",
   "execution_count": null,
   "metadata": {},
   "outputs": [],
   "source": []
  }
 ]
}