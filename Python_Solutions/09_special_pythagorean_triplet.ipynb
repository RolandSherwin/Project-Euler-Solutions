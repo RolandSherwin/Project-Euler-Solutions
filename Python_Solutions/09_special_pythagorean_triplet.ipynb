{
 "metadata": {
  "language_info": {
   "codemirror_mode": {
    "name": "ipython",
    "version": 3
   },
   "file_extension": ".py",
   "mimetype": "text/x-python",
   "name": "python",
   "nbconvert_exporter": "python",
   "pygments_lexer": "ipython3",
   "version": "3.8.5-final"
  },
  "orig_nbformat": 2,
  "kernelspec": {
   "name": "kernels",
   "display_name": "12 tiktokapi",
   "language": "python"
  }
 },
 "nbformat": 4,
 "nbformat_minor": 2,
 "cells": [
  {
   "source": [
    "# Question:\n",
    "A Pythagorean triplet is a set of three natural numbers, $a \\lt b \\lt c$, for which,\n",
    "$a^2 + b^2 = c^2$\n",
    "\n",
    "For example, $3^2 + 4^2 = 9 + 16 = 25 = 5^2$\n",
    "\n",
    "There exists exactly one Pythagorean triplet for which $a + b + c = 1000$\n",
    "Find the product abc.\n"
   ],
   "cell_type": "markdown",
   "metadata": {}
  },
  {
   "cell_type": "code",
   "execution_count": 18,
   "metadata": {
    "tags": []
   },
   "outputs": [
    {
     "output_type": "stream",
     "name": "stdout",
     "text": [
      "a,b,c : 200,375,425\nAnswer: 31875000\n"
     ]
    }
   ],
   "source": [
    "def is_pythogorean_triplet(a,b,c):\n",
    "    return (a**2 + b**2) == c**2\n",
    "\n",
    "def brute_force(total_sum = 1000):\n",
    "    # a,b,c can only take value less than total_sum/2 since above that they cant meet the a+b+c condition\n",
    "    # worst case a=499, b=0 c = 500; they cant go above that\n",
    "    limit = int(total_sum/2)\n",
    "    for a in range(limit):\n",
    "        for b in range(limit):\n",
    "            if a>=b:\n",
    "                continue\n",
    "            for c in range(limit):\n",
    "                if b>=c:\n",
    "                    continue\n",
    "                if a+b+c == total_sum:\n",
    "                    if is_pythogorean_triplet(a,b,c):\n",
    "                        print(f\"a,b,c : {a},{b},{c}\")\n",
    "                        print(f\"Answer: {a*b*c}\")\n",
    "\n",
    "brute_force()"
   ]
  }
 ]
}