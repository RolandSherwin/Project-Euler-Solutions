{
 "metadata": {
  "language_info": {
   "codemirror_mode": {
    "name": "ipython",
    "version": 3
   },
   "file_extension": ".py",
   "mimetype": "text/x-python",
   "name": "python",
   "nbconvert_exporter": "python",
   "pygments_lexer": "ipython3",
   "version": "3.8.5-final"
  },
  "orig_nbformat": 2,
  "kernelspec": {
   "name": "kernels",
   "display_name": "12 tiktokapi",
   "language": "python"
  }
 },
 "nbformat": 4,
 "nbformat_minor": 2,
 "cells": [
  {
   "source": [
    "# Question:\n",
    "The four adjacent digits in the 1000-digit number that have the greatest product are 9 × 9 × 8 × 9 = 5832.\n",
    "\n",
    "73167176531330624919225119674426574742355349194934\n",
    "96983520312774506326239578318016984801869478851843\n",
    "85861560789112949495459501737958331952853208805511\n",
    "12540698747158523863050715693290963295227443043557\n",
    "66896648950445244523161731856403098711121722383113\n",
    "62229893423380308135336276614282806444486645238749\n",
    "30358907296290491560440772390713810515859307960866\n",
    "70172427121883998797908792274921901699720888093776\n",
    "65727333001053367881220235421809751254540594752243\n",
    "52584907711670556013604839586446706324415722155397\n",
    "53697817977846174064955149290862569321978468622482\n",
    "83972241375657056057490261407972968652414535100474\n",
    "82166370484403199890008895243450658541227588666881\n",
    "16427171479924442928230863465674813919123162824586\n",
    "17866458359124566529476545682848912883142607690042\n",
    "24219022671055626321111109370544217506941658960408\n",
    "07198403850962455444362981230987879927244284909188\n",
    "84580156166097919133875499200524063689912560717606\n",
    "05886116467109405077541002256983155200055935729725\n",
    "71636269561882670428252483600823257530420752963450\n",
    "\n",
    "Find the thirteen adjacent digits in the 1000-digit number that have the greatest product. What is the value of this product?\n",
    "\n"
   ],
   "cell_type": "markdown",
   "metadata": {}
  },
  {
   "cell_type": "code",
   "execution_count": 5,
   "metadata": {},
   "outputs": [],
   "source": [
    "import numpy as np\n",
    "number = 7316717653133062491922511967442657474235534919493496983520312774506326239578318016984801869478851843858615607891129494954595017379583319528532088055111254069874715852386305071569329096329522744304355766896648950445244523161731856403098711121722383113622298934233803081353362766142828064444866452387493035890729629049156044077239071381051585930796086670172427121883998797908792274921901699720888093776657273330010533678812202354218097512545405947522435258490771167055601360483958644670632441572215539753697817977846174064955149290862569321978468622482839722413756570560574902614079729686524145351004748216637048440319989000889524345065854122758866688116427171479924442928230863465674813919123162824586178664583591245665294765456828489128831426076900422421902267105562632111110937054421750694165896040807198403850962455444362981230987879927244284909188845801561660979191338754992005240636899125607176060588611646710940507754100225698315520005593572972571636269561882670428252483600823257530420752963450\n",
    "number_arr = [int(x) for x in str(number)]\n",
    "number_arr = np.array(number_arr)"
   ]
  },
  {
   "cell_type": "code",
   "execution_count": 6,
   "metadata": {},
   "outputs": [],
   "source": [
    "# First Approach:\n",
    "# Find locations of 0's they split the number into many subsets and we can discard some sets\n",
    "# Start with set of highest values say [9,8] find a subsequcne containing only those. If found then it has the highest prod. increase the subset:"
   ]
  },
  {
   "cell_type": "code",
   "execution_count": 163,
   "metadata": {},
   "outputs": [],
   "source": [
    "ADJACENT_DIGITS = 13\n",
    "\n",
    "def should_include_subset(start_index, end_index, adjacent_digits):\n",
    "    # A subset is included if it does not contain a 0 within its adjacent_digit value\n",
    "    return end_index - start_index >= adjacent_digits\n",
    "\n",
    "def find_invalid_subsets(arr):\n",
    "    \"\"\" If you have 0's in index 79 and 86 then the elements between them can be excluded.          Thus returns an array with indices that can be discarded\"\"\"\n",
    "    \n",
    "    indices = np.where(arr == 0)\n",
    "    # Appending 0 to the first postion to make the following code easier:\n",
    "    indices = np.insert(indices, 0, 0, axis=1)\n",
    "    discard_indices = []\n",
    "\n",
    "    for i, value in np.ndenumerate(indices):\n",
    "        # i will be a tuple\n",
    "        i = i[1]\n",
    "        start_index = indices[0, i]\n",
    "        try:\n",
    "            end_index = indices[0, i+1]\n",
    "        except IndexError:\n",
    "            break\n",
    "\n",
    "        if not should_include_subset(start_index, end_index, ADJACENT_DIGITS):\n",
    "            #print(start_index, end_index)\n",
    "            discard_indices.append(start_index)\n",
    "            discard_indices.append(end_index)\n",
    "\n",
    "    return discard_indices\n",
    "\n",
    "def create_boolean_mask(arr, discard_indices):\n",
    "    mask = np.ones_like(arr)\n",
    "    # Appending 0 to the first postion to make the following code easier:\n",
    "    discard_indices.insert(0, 0)\n",
    "\n",
    "    for i, value in enumerate(discard_indices):\n",
    "        # include from discard_incides[i] to discarod_i\n",
    "\n",
    "\n",
    "def reduce_digits(arr, discard_indices):\n",
    "    # discard_indices is list\n",
    "\n",
    "    for i, value in enumerate(discard_indices):\n",
    "        pass\n"
   ]
  },
  {
   "cell_type": "code",
   "execution_count": 164,
   "metadata": {},
   "outputs": [
    {
     "output_type": "stream",
     "name": "stdout",
     "text": [
      "0\n57\n65\n79\n86\n142\n145\n145\n154\n170\n172\n172\n181\n230\n232\n263\n265\n301\n306\n306\n313\n313\n319\n319\n322\n322\n328\n328\n334\n334\n342\n342\n346\n346\n351\n371\n383\n383\n390\n390\n394\n408\n409\n409\n411\n411\n422\n422\n430\n430\n440\n456\n463\n463\n467\n467\n471\n471\n483\n517\n528\n564\n567\n567\n572\n572\n577\n595\n596\n596\n607\n607\n612\n612\n619\n619\n620\n620\n621\n621\n631\n742\n746\n746\n747\n747\n755\n755\n761\n774\n778\n778\n786\n786\n796\n796\n798\n798\n800\n800\n806\n806\n810\n845\n854\n854\n861\n877\n878\n878\n882\n882\n893\n893\n898\n898\n900\n900\n912\n912\n915\n915\n917\n917\n923\n923\n924\n924\n936\n936\n937\n937\n938\n966\n977\n977\n978\n978\n987\n987\n990\n990\n999\n"
     ]
    }
   ],
   "source": [
    "discard_indices = find_invalid_subsets(number_arr)\n",
    "create_boolean_mask(number_arr, discard_indices)"
   ]
  },
  {
   "cell_type": "code",
   "execution_count": null,
   "metadata": {},
   "outputs": [],
   "source": []
  },
  {
   "cell_type": "code",
   "execution_count": null,
   "metadata": {},
   "outputs": [],
   "source": []
  }
 ]
}