{
 "metadata": {
  "language_info": {
   "codemirror_mode": {
    "name": "ipython",
    "version": 3
   },
   "file_extension": ".py",
   "mimetype": "text/x-python",
   "name": "python",
   "nbconvert_exporter": "python",
   "pygments_lexer": "ipython3",
   "version": "3.8.5-final"
  },
  "orig_nbformat": 2,
  "kernelspec": {
   "name": "python3",
   "display_name": "Python 3.8.5 32-bit",
   "metadata": {
    "interpreter": {
     "hash": "2db524e06e9f5f4ffedc911c917cb75e12dbc923643829bf417064a77eb14d37"
    }
   }
  }
 },
 "nbformat": 4,
 "nbformat_minor": 2,
 "cells": [
  {
   "source": [
    "# Question:\n",
    "The four adjacent digits in the 1000-digit number that have the greatest product are 9 × 9 × 8 × 9 = 5832.\n",
    "\n",
    "73167176531330624919225119674426574742355349194934\n",
    "96983520312774506326239578318016984801869478851843\n",
    "85861560789112949495459501737958331952853208805511\n",
    "12540698747158523863050715693290963295227443043557\n",
    "66896648950445244523161731856403098711121722383113\n",
    "62229893423380308135336276614282806444486645238749\n",
    "30358907296290491560440772390713810515859307960866\n",
    "70172427121883998797908792274921901699720888093776\n",
    "65727333001053367881220235421809751254540594752243\n",
    "52584907711670556013604839586446706324415722155397\n",
    "53697817977846174064955149290862569321978468622482\n",
    "83972241375657056057490261407972968652414535100474\n",
    "82166370484403199890008895243450658541227588666881\n",
    "16427171479924442928230863465674813919123162824586\n",
    "17866458359124566529476545682848912883142607690042\n",
    "24219022671055626321111109370544217506941658960408\n",
    "07198403850962455444362981230987879927244284909188\n",
    "84580156166097919133875499200524063689912560717606\n",
    "05886116467109405077541002256983155200055935729725\n",
    "71636269561882670428252483600823257530420752963450\n",
    "\n",
    "Find the thirteen adjacent digits in the 1000-digit number that have the greatest product. What is the value of this product?\n",
    "\n"
   ],
   "cell_type": "markdown",
   "metadata": {}
  },
  {
   "cell_type": "code",
   "execution_count": 1,
   "metadata": {},
   "outputs": [],
   "source": [
    "import numpy as np\n",
    "number = 7316717653133062491922511967442657474235534919493496983520312774506326239578318016984801869478851843858615607891129494954595017379583319528532088055111254069874715852386305071569329096329522744304355766896648950445244523161731856403098711121722383113622298934233803081353362766142828064444866452387493035890729629049156044077239071381051585930796086670172427121883998797908792274921901699720888093776657273330010533678812202354218097512545405947522435258490771167055601360483958644670632441572215539753697817977846174064955149290862569321978468622482839722413756570560574902614079729686524145351004748216637048440319989000889524345065854122758866688116427171479924442928230863465674813919123162824586178664583591245665294765456828489128831426076900422421902267105562632111110937054421750694165896040807198403850962455444362981230987879927244284909188845801561660979191338754992005240636899125607176060588611646710940507754100225698315520005593572972571636269561882670428252483600823257530420752963450\n",
    "number_arr = [int(x) for x in str(number)]\n",
    "number_arr = np.array(number_arr)"
   ]
  },
  {
   "cell_type": "code",
   "execution_count": 2,
   "metadata": {},
   "outputs": [],
   "source": [
    "# First Approach:\n",
    "# Find locations of 0's they split the number into many subsets and we can discard some sets\n",
    "# Start with set of highest values say [9,8] find a subsequcne containing only those. If found then it has the highest prod. increase the subset:"
   ]
  },
  {
   "cell_type": "code",
   "execution_count": 3,
   "metadata": {},
   "outputs": [],
   "source": [
    "ADJACENT_DIGITS = 13\n",
    "\n",
    "def should_include_subset(start_index, end_index, adjacent_digits):\n",
    "    # A subset is included if it does not contain a 0 within its adjacent_digit value\n",
    "    return end_index - start_index >= adjacent_digits\n",
    "\n",
    "def find_invalid_subsets(arr):\n",
    "    \"\"\" If you have 0's in index 79 and 86 then the elements between them can be excluded.          Thus returns an array with indices that can be discarded\"\"\"\n",
    "    \n",
    "    indices = np.where(arr == 0)\n",
    "    # Appending 0 to the first postion to make the following code easier:\n",
    "    indices = np.insert(indices, 0, 0, axis=1)\n",
    "    discard_indices = []\n",
    "\n",
    "    for i, value in np.ndenumerate(indices):\n",
    "        # i will be a tuple\n",
    "        i = i[1]\n",
    "        start_index = indices[0, i]\n",
    "        try:\n",
    "            end_index = indices[0, i+1]\n",
    "        except IndexError:\n",
    "            break\n",
    "\n",
    "        if not should_include_subset(start_index, end_index, ADJACENT_DIGITS):\n",
    "            #print(start_index, end_index)\n",
    "            discard_indices.append(start_index)\n",
    "            discard_indices.append(end_index)\n",
    "\n",
    "    return discard_indices\n",
    "\n",
    "def create_boolean_mask(arr, discard_indices):\n",
    "    mask = np.ones_like(arr)\n",
    "    # Appending 0 to the first postion to make the following code easier:\n",
    "    discard_indices.insert(0, 0)\n",
    "\n",
    "    for i, value in enumerate(discard_indices):\n",
    "        # include from discard_incides[i] to discarod_i\n",
    "        pass\n",
    "\n",
    "def reduce_digits(arr, discard_indices):\n",
    "    # discard_indices is list\n",
    "\n",
    "    for i, value in enumerate(discard_indices):\n",
    "        pass\n"
   ]
  },
  {
   "cell_type": "code",
   "execution_count": 4,
   "metadata": {},
   "outputs": [],
   "source": [
    "discard_indices = find_invalid_subsets(number_arr)\n",
    "create_boolean_mask(number_arr, discard_indices)"
   ]
  },
  {
   "cell_type": "code",
   "execution_count": 5,
   "metadata": {},
   "outputs": [
    {
     "output_type": "stream",
     "name": "stdout",
     "text": [
      "[5, 5, 7, 6, 6, 8, 9, 6, 6, 4, 8, 9, 5]\n"
     ]
    }
   ],
   "source": [
    "# PREVIOUS CELL IS UNFINISHED:\n",
    "# Just solving the quesiton:\n",
    "\n",
    "sequences = [[9], [9,8], [9,8,7], [9,8,7,6], [9,8,7,6,5], [9,8,7,6,5,4], [9,8,7,6,5,4,3], [9,8,7,6,5,4,3,2], [9,8,7,6,5,4,3,2,1]]\n",
    "\n",
    "for sequence in sequences:\n",
    "    saved_digit = []\n",
    "    for digit in number_arr:\n",
    "        if digit in sequence:\n",
    "            saved_digit.append(digit)\n",
    "            if len(saved_digit) == ADJACENT_DIGITS:\n",
    "                print (saved_digit)\n",
    "                break\n",
    "        else:\n",
    "            saved_digit = []\n",
    "\n",
    "    # For breaknig multiple loops:\n",
    "    else:\n",
    "        continue\n",
    "    break\n"
   ]
  },
  {
   "cell_type": "code",
   "execution_count": 6,
   "metadata": {},
   "outputs": [
    {
     "output_type": "execute_result",
     "data": {
      "text/plain": [
       "23514624000"
      ]
     },
     "metadata": {},
     "execution_count": 6
    }
   ],
   "source": [
    "5*5*7*6*6*8*9*6*6*4*8*9*5"
   ]
  },
  {
   "cell_type": "code",
   "execution_count": null,
   "metadata": {},
   "outputs": [],
   "source": []
  }
 ]
}