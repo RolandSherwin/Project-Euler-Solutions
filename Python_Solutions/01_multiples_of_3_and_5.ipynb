{
 "metadata": {
  "language_info": {
   "codemirror_mode": {
    "name": "ipython",
    "version": 3
   },
   "file_extension": ".py",
   "mimetype": "text/x-python",
   "name": "python",
   "nbconvert_exporter": "python",
   "pygments_lexer": "ipython3",
   "version": "3.8.5-final"
  },
  "orig_nbformat": 2,
  "kernelspec": {
   "name": "kernels",
   "display_name": "12 tiktokapi",
   "language": "python"
  }
 },
 "nbformat": 4,
 "nbformat_minor": 2,
 "cells": [
  {
   "source": [
    "# Question:\n",
    "If we list all the natural numbers below 10 that are multiples of 3 or 5, we get 3, 5, 6 and 9. The sum of these multiples is 23.\n",
    "\n",
    "Find the sum of all the multiples of 3 or 5 below 1000.\n"
   ],
   "cell_type": "markdown",
   "metadata": {}
  },
  {
   "cell_type": "code",
   "execution_count": 10,
   "metadata": {},
   "outputs": [
    {
     "output_type": "stream",
     "name": "stdout",
     "text": [
      "233168\n"
     ]
    }
   ],
   "source": [
    "limit = 1000\n",
    "final_sum = 0\n",
    "\n",
    "for i in range(1, 1000):\n",
    "    if (i%3 == 0) or (i%5 == 0):\n",
    "        final_sum += i\n",
    "\n",
    "print(final_sum)"
   ]
  }
 ]
}