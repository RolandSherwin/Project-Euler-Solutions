{
 "metadata": {
  "language_info": {
   "codemirror_mode": {
    "name": "ipython",
    "version": 3
   },
   "file_extension": ".py",
   "mimetype": "text/x-python",
   "name": "python",
   "nbconvert_exporter": "python",
   "pygments_lexer": "ipython3",
   "version": "3.8.5-final"
  },
  "orig_nbformat": 2,
  "kernelspec": {
   "name": "kernels",
   "display_name": "12 tiktokapi",
   "language": "python"
  }
 },
 "nbformat": 4,
 "nbformat_minor": 2,
 "cells": [
  {
   "source": [
    "# Question:\n",
    "A palindromic number reads the same both ways. The largest palindrome made from the product of two 2-digit numbers is 9009 = 91 × 99.\n",
    "\n",
    "Find the largest palindrome made from the product of two 3-digit numbers.\n"
   ],
   "cell_type": "markdown",
   "metadata": {}
  },
  {
   "cell_type": "code",
   "execution_count": 1,
   "metadata": {},
   "outputs": [],
   "source": [
    "import math, time\n",
    "import pandas as pd\n",
    "\n",
    "def timeit(method):\n",
    "    def timed(*args, **kw):\n",
    "        ts = time.time()\n",
    "        result = method(*args, **kw)\n",
    "        te = time.time()        \n",
    "        elapsed = (te-ts)\n",
    "        print (f\"{method.__name__} took: {elapsed} ms\")\n",
    "        return result    \n",
    "    return timed\n",
    "\n",
    "\n",
    "def check_palindrome(number):\n",
    "    number_arr = [int(x) for x in str(number)]\n",
    "    length_half= int(len(number_arr)/2)\n",
    "    for i in range(length_half):\n",
    "        #print(f\"Step {i}: {number_arr[i]} and {number_arr[-(i+1)]}\")\n",
    "        if number_arr[i] != number_arr[-(i+1)]:\n",
    "            return False\n",
    "    return True"
   ]
  },
  {
   "cell_type": "code",
   "execution_count": 2,
   "metadata": {
    "tags": []
   },
   "outputs": [
    {
     "output_type": "stream",
     "name": "stdout",
     "text": [
      "largest_palindrome took: 1.4487788677215576 ms\n"
     ]
    },
    {
     "output_type": "execute_result",
     "data": {
      "text/plain": [
       "906609"
      ]
     },
     "metadata": {},
     "execution_count": 2
    }
   ],
   "source": [
    "# Brute force\n",
    "MAX_NUMBER = 999\n",
    "LOW_NUMBER = 100\n",
    "\n",
    "\n",
    "@timeit\n",
    "def largest_palindrome():\n",
    "    i_list = []\n",
    "    j_list = []\n",
    "    prod_list = []\n",
    "\n",
    "    for i in reversed(range(LOW_NUMBER, MAX_NUMBER+1)):\n",
    "        for j in reversed(range(LOW_NUMBER, MAX_NUMBER+1)):\n",
    "            product = i*j\n",
    "            if check_palindrome(product):\n",
    "                i_list.append(i)\n",
    "                j_list.append(j)\n",
    "                prod_list.append(product)\n",
    "\n",
    "    palindromes = pd.DataFrame({\"i\":i_list, \"j\":j_list, \"product\":prod_list})\n",
    "    return palindromes\n",
    "\n",
    "palindromes = largest_palindrome()\n",
    "palindromes[\"product\"].max()"
   ]
  }
 ]
}