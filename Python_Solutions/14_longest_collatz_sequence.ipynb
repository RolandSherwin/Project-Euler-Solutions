{
 "metadata": {
  "language_info": {
   "codemirror_mode": {
    "name": "ipython",
    "version": 3
   },
   "file_extension": ".py",
   "mimetype": "text/x-python",
   "name": "python",
   "nbconvert_exporter": "python",
   "pygments_lexer": "ipython3",
   "version": "3.8.5-final"
  },
  "orig_nbformat": 2,
  "kernelspec": {
   "name": "kernels",
   "display_name": "12 tiktokapi",
   "language": "python"
  }
 },
 "nbformat": 4,
 "nbformat_minor": 2,
 "cells": [
  {
   "source": [
    "# Question:\n",
    "<p>The following iterative sequence is defined for the set of positive integers:</p>\n",
    "<p class=\"margin_left\"><var>n</var> → <var>n</var>/2 (<var>n</var> is even)<br /><var>n</var> → 3<var>n</var> + 1 (<var>n</var> is odd)</p>\n",
    "<p>Using the rule above and starting with 13, we generate the following sequence:</p>\n",
    "<div class=\"center\">13 → 40 → 20 → 10 → 5 → 16 → 8 → 4 → 2 → 1</div>\n",
    "<p>It can be seen that this sequence (starting at 13 and finishing at 1) contains 10 terms. Although it has not been proved yet (Collatz Problem), it is thought that all starting numbers finish at 1.</p>\n",
    "<p>Which starting number, under one million, produces the longest chain?</p>\n",
    "<p class=\"note\"><b>NOTE:</b> Once the chain starts the terms are allowed to go above one million.</p>\n",
    "\n"
   ],
   "cell_type": "markdown",
   "metadata": {}
  },
  {
   "cell_type": "code",
   "execution_count": 1,
   "metadata": {
    "tags": []
   },
   "outputs": [],
   "source": [
    "import time\n",
    "\n",
    "def collatz_sequence(num, sequence_length = 0):\n",
    "    sequence_length += 1\n",
    "    if num == 1: # base case\n",
    "        return sequence_length\n",
    "    \n",
    "    if num%2 == 0: # recusive case\n",
    "        return collatz_sequence(num/2, sequence_length)\n",
    "    else:\n",
    "        return collatz_sequence(3*num+1, sequence_length)"
   ]
  },
  {
   "cell_type": "code",
   "execution_count": 19,
   "metadata": {
    "tags": []
   },
   "outputs": [
    {
     "output_type": "stream",
     "name": "stdout",
     "text": [
      "Number: 1 with sequence Length: 1\n",
      "Number: 2 with sequence Length: 2\n",
      "Number: 3 with sequence Length: 8\n",
      "Number: 6 with sequence Length: 9\n",
      "Number: 7 with sequence Length: 17\n",
      "Number: 9 with sequence Length: 20\n",
      "Number: 18 with sequence Length: 21\n",
      "Number: 25 with sequence Length: 24\n",
      "Number: 27 with sequence Length: 112\n",
      "Number: 54 with sequence Length: 113\n",
      "Number: 73 with sequence Length: 116\n",
      "Number: 97 with sequence Length: 119\n",
      "Number: 129 with sequence Length: 122\n",
      "Number: 171 with sequence Length: 125\n",
      "Number: 231 with sequence Length: 128\n",
      "Number: 313 with sequence Length: 131\n",
      "Number: 327 with sequence Length: 144\n",
      "Number: 649 with sequence Length: 145\n",
      "Number: 703 with sequence Length: 171\n",
      "Number: 871 with sequence Length: 179\n",
      "Number: 1161 with sequence Length: 182\n",
      "Number: 2223 with sequence Length: 183\n",
      "Number: 2463 with sequence Length: 209\n",
      "Number: 2919 with sequence Length: 217\n",
      "Number: 3711 with sequence Length: 238\n",
      "Number: 6171 with sequence Length: 262\n",
      "Number: 10971 with sequence Length: 268\n",
      "Number: 13255 with sequence Length: 276\n",
      "Number: 17647 with sequence Length: 279\n",
      "Number: 23529 with sequence Length: 282\n",
      "Number: 26623 with sequence Length: 308\n",
      "Number: 34239 with sequence Length: 311\n",
      "Number: 35655 with sequence Length: 324\n",
      "Number: 52527 with sequence Length: 340\n",
      "Number: 77031 with sequence Length: 351\n",
      "Number: 106239 with sequence Length: 354\n",
      "Number: 142587 with sequence Length: 375\n",
      "Number: 156159 with sequence Length: 383\n",
      "Number: 216367 with sequence Length: 386\n",
      "Number: 230631 with sequence Length: 443\n",
      "Number: 410011 with sequence Length: 449\n",
      "Number: 511935 with sequence Length: 470\n",
      "Number: 626331 with sequence Length: 509\n",
      "Number: 837799 with sequence Length: 525\n",
      "837799\n"
     ]
    }
   ],
   "source": [
    "MAX_RANGE = 1000000\n",
    "longest_sequence = 0\n",
    "found_number = 0\n",
    "\n",
    "\n",
    "for i in range(1, MAX_RANGE):\n",
    "    length = collatz_sequence(i)        \n",
    "    if length > longest_sequence:\n",
    "        longest_sequence = length\n",
    "        found_number = i\n",
    "        print(f\"Number: {i} with sequence Length: {length}\" )\n",
    "\n",
    "print(found_number)\n",
    "\n"
   ]
  },
  {
   "cell_type": "code",
   "execution_count": 2,
   "metadata": {},
   "outputs": [],
   "source": [
    "def solutiontest(ranges):\n",
    "    start_value = int(ranges[0])\n",
    "    end_value = int(ranges[1])\n",
    "    for i in range(start_value, end_value):\n",
    "        print(i)\n",
    "\n",
    "def solution(ranges):\n",
    "    start_value = int(ranges[0])\n",
    "    end_value = int(ranges[1])\n",
    "    print(\"GG\")\n",
    "    print(start_value, end_value)\n",
    "    global final_output\n",
    "\n",
    "    longest_seqeunce = 0\n",
    "    found_number = 0\n",
    "\n",
    "    for i in range(start_value, end_value):\n",
    "        print(i)\n",
    "        length = collatz_sequence(i)        \n",
    "        if length > longest_sequence:\n",
    "            longest_sequence = length\n",
    "            found_number = i\n",
    "            #print(f\"Number: {i} with sequence Length: {length}\" )\n",
    "    final_output.append(found_number)\n",
    "    return 0\n",
    "\n",
    "def split_the_loop(max_range, pool_size):\n",
    "    iterations_per_thread = max_range/pool_size\n",
    "    ranges = []\n",
    "    for i in range(pool_size):\n",
    "        if i == pool_size-1:\n",
    "            single_range = [i*iterations_per_thread, (i+1)*iterations_per_thread+1]\n",
    "            ranges.append(single_range)\n",
    "            break\n",
    "        single_range = [i*iterations_per_thread, (i+1)*iterations_per_thread]\n",
    "        ranges.append(single_range)\n",
    "    return ranges"
   ]
  },
  {
   "cell_type": "code",
   "execution_count": 5,
   "metadata": {
    "tags": []
   },
   "outputs": [
    {
     "output_type": "stream",
     "name": "stdout",
     "text": [
      "GG\n0 25\n0\nGG\n25 50\n25\nGG\n50 75\n50\nGG\n75 101\n75\n[]\n"
     ]
    }
   ],
   "source": [
    "from multiprocessing.pool import ThreadPool as Pool\n",
    "\n",
    "MAX_RANGE = 100\n",
    "final_output = []\n",
    "pool_size = 4\n",
    "ranges = split_the_loop(MAX_RANGE, pool_size)\n",
    "\n",
    "pool = Pool(pool_size)\n",
    "\n",
    "for rang in ranges:\n",
    "    pool.apply_async(solution, (rang,))\n",
    "\n",
    "pool.close()\n",
    "pool.join()\n",
    "\n",
    "print(final_output)\n"
   ]
  },
  {
   "cell_type": "code",
   "execution_count": 1,
   "metadata": {},
   "outputs": [],
   "source": [
    "from multiprocessing import Pool, cpu_count\n",
    "import time\n",
    "\n",
    "def t():\n",
    "    # Make a dummy dictionary\n",
    "    d = {k: k**2 for k in range(10)}\n",
    "\n",
    "    pool = Pool(processes=(cpu_count() - 1))\n",
    "\n",
    "    for key, value in d.items():\n",
    "        pool.apply_async(thread_process, args=(key, value))\n",
    "\n",
    "    pool.close()\n",
    "    pool.join()\n",
    "\n",
    "\n",
    "def thread_process(key, value):\n",
    "    time.sleep(0.1)  # Simulate a process taking some time to complete\n",
    "    print(\"For\", key, value)\n",
    "\n",
    "if __name__ == '__main__':\n",
    "    t()"
   ]
  },
  {
   "cell_type": "code",
   "execution_count": null,
   "metadata": {},
   "outputs": [],
   "source": []
  }
 ]
}